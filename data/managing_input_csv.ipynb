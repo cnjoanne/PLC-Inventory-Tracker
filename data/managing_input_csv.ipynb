{
 "cells": [
  {
   "cell_type": "code",
   "execution_count": 1,
   "metadata": {},
   "outputs": [],
   "source": [
    "import pandas as pd\n",
    "import random\n",
    "from datetime import datetime, timedelta"
   ]
  },
  {
   "cell_type": "code",
   "execution_count": 12,
   "metadata": {},
   "outputs": [],
   "source": [
    "dataset_path = \"./input_001.csv\"\n",
    "df = pd.read_csv(dataset_path)"
   ]
  },
  {
   "cell_type": "code",
   "execution_count": 14,
   "metadata": {},
   "outputs": [
    {
     "data": {
      "text/html": [
       "<div>\n",
       "<style scoped>\n",
       "    .dataframe tbody tr th:only-of-type {\n",
       "        vertical-align: middle;\n",
       "    }\n",
       "\n",
       "    .dataframe tbody tr th {\n",
       "        vertical-align: top;\n",
       "    }\n",
       "\n",
       "    .dataframe thead th {\n",
       "        text-align: right;\n",
       "    }\n",
       "</style>\n",
       "<table border=\"1\" class=\"dataframe\">\n",
       "  <thead>\n",
       "    <tr style=\"text-align: right;\">\n",
       "      <th></th>\n",
       "      <th>item</th>\n",
       "    </tr>\n",
       "  </thead>\n",
       "  <tbody>\n",
       "    <tr>\n",
       "      <th>0</th>\n",
       "      <td>Blue Jazz</td>\n",
       "    </tr>\n",
       "    <tr>\n",
       "      <th>1</th>\n",
       "      <td>Cauliflower</td>\n",
       "    </tr>\n",
       "    <tr>\n",
       "      <th>2</th>\n",
       "      <td>Garlic</td>\n",
       "    </tr>\n",
       "    <tr>\n",
       "      <th>3</th>\n",
       "      <td>Kale</td>\n",
       "    </tr>\n",
       "    <tr>\n",
       "      <th>4</th>\n",
       "      <td>Parsnip</td>\n",
       "    </tr>\n",
       "    <tr>\n",
       "      <th>...</th>\n",
       "      <td>...</td>\n",
       "    </tr>\n",
       "    <tr>\n",
       "      <th>215</th>\n",
       "      <td>Lobster Bisque</td>\n",
       "    </tr>\n",
       "    <tr>\n",
       "      <th>216</th>\n",
       "      <td>Escargot</td>\n",
       "    </tr>\n",
       "    <tr>\n",
       "      <th>217</th>\n",
       "      <td>Fish Stew</td>\n",
       "    </tr>\n",
       "    <tr>\n",
       "      <th>218</th>\n",
       "      <td>Maple Bar</td>\n",
       "    </tr>\n",
       "    <tr>\n",
       "      <th>219</th>\n",
       "      <td>Crab Cakes</td>\n",
       "    </tr>\n",
       "  </tbody>\n",
       "</table>\n",
       "<p>220 rows × 1 columns</p>\n",
       "</div>"
      ],
      "text/plain": [
       "               item\n",
       "0         Blue Jazz\n",
       "1       Cauliflower\n",
       "2            Garlic\n",
       "3              Kale\n",
       "4           Parsnip\n",
       "..              ...\n",
       "215  Lobster Bisque\n",
       "216        Escargot\n",
       "217       Fish Stew\n",
       "218       Maple Bar\n",
       "219      Crab Cakes\n",
       "\n",
       "[220 rows x 1 columns]"
      ]
     },
     "execution_count": 14,
     "metadata": {},
     "output_type": "execute_result"
    }
   ],
   "source": [
    "df"
   ]
  },
  {
   "cell_type": "code",
   "execution_count": 13,
   "metadata": {},
   "outputs": [],
   "source": [
    "df['item\\t\\t'] = df['item\\t\\t'].apply(lambda x: x.replace('\\t', ''))\n",
    "df.columns = df.columns.str.replace('\\t', '', regex=True)"
   ]
  },
  {
   "cell_type": "code",
   "execution_count": 28,
   "metadata": {},
   "outputs": [],
   "source": [
    "start_date = datetime(2024, 4, 1)\n",
    "end_date = datetime(2035, 12, 31)\n",
    "def generate_rand_dates(num_of_dates, start_date, end_date):\n",
    "    dates = []\n",
    "    date_range = end_date - start_date\n",
    "    for _ in range(num_of_dates):\n",
    "        rand_days = random.randint(0, date_range.days)\n",
    "        rand_date  = start_date + timedelta(days=rand_days)\n",
    "        dates.append(rand_date.strftime('%d/%m/%Y'))\n",
    "    return dates"
   ]
  },
  {
   "cell_type": "code",
   "execution_count": 29,
   "metadata": {},
   "outputs": [],
   "source": [
    "dates = generate_rand_dates(220, start_date, end_date)"
   ]
  },
  {
   "cell_type": "code",
   "execution_count": 30,
   "metadata": {},
   "outputs": [
    {
     "name": "stdout",
     "output_type": "stream",
     "text": [
      "['01/06/2033', '28/09/2029', '02/07/2026', '09/06/2029', '07/03/2027', '12/11/2030', '26/09/2027', '20/11/2031', '27/02/2030', '12/05/2026', '19/08/2028', '06/04/2033', '23/02/2034', '28/09/2035', '11/09/2030', '06/03/2031', '18/05/2028', '19/09/2025', '01/06/2032', '23/04/2026', '19/11/2031', '01/05/2028', '19/10/2035', '25/11/2024', '25/01/2025', '20/08/2030', '04/12/2035', '05/01/2028', '21/09/2031', '22/01/2033', '30/07/2035', '31/01/2029', '20/03/2032', '10/11/2026', '01/11/2033', '22/08/2035', '26/04/2029', '20/09/2031', '30/10/2025', '30/09/2035', '13/05/2032', '24/07/2031', '24/06/2029', '28/12/2024', '01/02/2025', '13/11/2033', '13/04/2025', '18/09/2031', '17/07/2031', '02/06/2029', '31/12/2026', '25/04/2025', '17/01/2030', '18/03/2032', '09/03/2030', '26/09/2033', '15/12/2029', '15/10/2031', '25/01/2027', '27/10/2025', '25/02/2031', '14/12/2026', '12/10/2031', '13/10/2025', '26/10/2033', '23/04/2032', '22/08/2026', '10/12/2027', '02/12/2032', '26/01/2033', '31/05/2033', '20/05/2025', '12/12/2035', '04/10/2035', '29/06/2031', '02/10/2027', '07/01/2034', '13/02/2028', '17/10/2035', '20/06/2025', '06/10/2024', '25/03/2032', '06/02/2032', '26/04/2030', '18/03/2031', '22/09/2029', '08/11/2031', '13/06/2026', '14/04/2025', '28/04/2025', '18/12/2033', '19/06/2025', '19/01/2032', '14/06/2034', '24/04/2026', '09/10/2033', '07/09/2034', '16/07/2033', '04/08/2028', '14/10/2034', '02/05/2028', '11/11/2032', '26/01/2033', '25/12/2029', '30/11/2030', '12/01/2032', '16/10/2029', '10/02/2032', '18/05/2031', '14/11/2035', '22/09/2031', '19/06/2031', '04/06/2026', '02/09/2032', '03/07/2027', '10/06/2024', '30/09/2034', '02/10/2030', '08/11/2034', '17/01/2035', '07/09/2029', '17/09/2034', '30/11/2029', '12/08/2024', '08/06/2026', '02/12/2030', '06/08/2027', '22/08/2028', '30/09/2033', '23/04/2030', '04/10/2028', '01/04/2035', '29/12/2031', '08/01/2035', '24/04/2033', '30/11/2026', '03/09/2034', '13/09/2035', '28/03/2025', '13/05/2029', '21/01/2035', '30/12/2035', '03/01/2025', '13/07/2029', '31/10/2029', '04/07/2031', '26/02/2031', '27/06/2035', '17/11/2034', '30/07/2035', '25/05/2029', '11/06/2035', '12/01/2031', '25/07/2028', '01/04/2030', '03/09/2030', '03/11/2033', '14/06/2030', '24/08/2027', '28/10/2033', '16/12/2034', '30/09/2035', '28/02/2035', '23/01/2034', '03/06/2033', '19/02/2029', '16/05/2030', '13/11/2035', '05/06/2027', '24/08/2027', '29/06/2033', '02/06/2027', '21/10/2034', '06/07/2035', '29/11/2035', '13/03/2029', '19/12/2033', '25/06/2024', '22/03/2034', '03/10/2025', '23/09/2031', '24/07/2026', '07/04/2033', '16/11/2025', '09/09/2029', '29/11/2026', '30/09/2034', '20/01/2028', '02/09/2024', '10/06/2027', '11/11/2027', '02/09/2028', '25/06/2031', '21/09/2030', '02/12/2029', '03/11/2024', '05/10/2028', '04/09/2025', '26/07/2032', '19/10/2033', '01/03/2031', '26/08/2026', '09/04/2028', '19/05/2031', '01/07/2034', '21/05/2032', '17/12/2030', '28/03/2030', '02/11/2035', '31/05/2024', '11/07/2026', '28/02/2029', '08/02/2031', '11/10/2028', '20/02/2026', '15/03/2032', '25/09/2032', '03/04/2029', '04/10/2032', '13/04/2034']\n"
     ]
    }
   ],
   "source": [
    "print(dates)"
   ]
  },
  {
   "cell_type": "code",
   "execution_count": 24,
   "metadata": {},
   "outputs": [],
   "source": [
    "quantities = [random.randint(0, 100) for _ in range(220)]"
   ]
  },
  {
   "cell_type": "code",
   "execution_count": 25,
   "metadata": {},
   "outputs": [
    {
     "name": "stdout",
     "output_type": "stream",
     "text": [
      "[18, 33, 81, 69, 62, 68, 12, 38, 24, 63, 14, 24, 32, 55, 14, 29, 60, 5, 31, 0, 38, 41, 38, 62, 84, 4, 44, 83, 79, 9, 69, 44, 9, 28, 39, 84, 28, 58, 99, 92, 31, 28, 54, 77, 49, 7, 93, 89, 54, 90, 16, 40, 29, 91, 31, 8, 68, 35, 36, 37, 39, 91, 29, 91, 81, 91, 54, 33, 80, 84, 46, 51, 70, 10, 44, 63, 39, 34, 65, 58, 23, 32, 8, 75, 63, 23, 22, 38, 0, 48, 18, 36, 82, 65, 8, 13, 88, 53, 94, 60, 6, 16, 22, 46, 19, 89, 99, 39, 56, 80, 86, 25, 67, 98, 13, 97, 23, 35, 32, 10, 39, 59, 14, 93, 91, 7, 27, 30, 38, 84, 43, 17, 5, 78, 64, 67, 86, 74, 90, 54, 77, 95, 59, 36, 92, 45, 93, 4, 9, 13, 59, 67, 82, 90, 99, 72, 22, 86, 66, 16, 55, 53, 44, 17, 99, 56, 39, 18, 84, 85, 82, 39, 44, 76, 32, 66, 53, 99, 10, 73, 51, 34, 87, 85, 27, 40, 46, 3, 25, 8, 10, 17, 26, 19, 37, 26, 23, 68, 33, 62, 26, 58, 53, 53, 18, 36, 19, 68, 75, 50, 20, 63, 27, 59, 87, 59, 74, 91, 73, 44]\n"
     ]
    }
   ],
   "source": [
    "print(quantities)"
   ]
  },
  {
   "cell_type": "code",
   "execution_count": 31,
   "metadata": {},
   "outputs": [
    {
     "data": {
      "text/html": [
       "<div>\n",
       "<style scoped>\n",
       "    .dataframe tbody tr th:only-of-type {\n",
       "        vertical-align: middle;\n",
       "    }\n",
       "\n",
       "    .dataframe tbody tr th {\n",
       "        vertical-align: top;\n",
       "    }\n",
       "\n",
       "    .dataframe thead th {\n",
       "        text-align: right;\n",
       "    }\n",
       "</style>\n",
       "<table border=\"1\" class=\"dataframe\">\n",
       "  <thead>\n",
       "    <tr style=\"text-align: right;\">\n",
       "      <th></th>\n",
       "      <th>item</th>\n",
       "      <th>quantity</th>\n",
       "      <th>expiry-date</th>\n",
       "    </tr>\n",
       "  </thead>\n",
       "  <tbody>\n",
       "    <tr>\n",
       "      <th>0</th>\n",
       "      <td>Blue Jazz</td>\n",
       "      <td>18</td>\n",
       "      <td>01/06/2033</td>\n",
       "    </tr>\n",
       "    <tr>\n",
       "      <th>1</th>\n",
       "      <td>Cauliflower</td>\n",
       "      <td>33</td>\n",
       "      <td>28/09/2029</td>\n",
       "    </tr>\n",
       "    <tr>\n",
       "      <th>2</th>\n",
       "      <td>Garlic</td>\n",
       "      <td>81</td>\n",
       "      <td>02/07/2026</td>\n",
       "    </tr>\n",
       "    <tr>\n",
       "      <th>3</th>\n",
       "      <td>Kale</td>\n",
       "      <td>69</td>\n",
       "      <td>09/06/2029</td>\n",
       "    </tr>\n",
       "    <tr>\n",
       "      <th>4</th>\n",
       "      <td>Parsnip</td>\n",
       "      <td>62</td>\n",
       "      <td>07/03/2027</td>\n",
       "    </tr>\n",
       "    <tr>\n",
       "      <th>...</th>\n",
       "      <td>...</td>\n",
       "      <td>...</td>\n",
       "      <td>...</td>\n",
       "    </tr>\n",
       "    <tr>\n",
       "      <th>215</th>\n",
       "      <td>Lobster Bisque</td>\n",
       "      <td>59</td>\n",
       "      <td>15/03/2032</td>\n",
       "    </tr>\n",
       "    <tr>\n",
       "      <th>216</th>\n",
       "      <td>Escargot</td>\n",
       "      <td>74</td>\n",
       "      <td>25/09/2032</td>\n",
       "    </tr>\n",
       "    <tr>\n",
       "      <th>217</th>\n",
       "      <td>Fish Stew</td>\n",
       "      <td>91</td>\n",
       "      <td>03/04/2029</td>\n",
       "    </tr>\n",
       "    <tr>\n",
       "      <th>218</th>\n",
       "      <td>Maple Bar</td>\n",
       "      <td>73</td>\n",
       "      <td>04/10/2032</td>\n",
       "    </tr>\n",
       "    <tr>\n",
       "      <th>219</th>\n",
       "      <td>Crab Cakes</td>\n",
       "      <td>44</td>\n",
       "      <td>13/04/2034</td>\n",
       "    </tr>\n",
       "  </tbody>\n",
       "</table>\n",
       "<p>220 rows × 3 columns</p>\n",
       "</div>"
      ],
      "text/plain": [
       "               item  quantity expiry-date\n",
       "0         Blue Jazz        18  01/06/2033\n",
       "1       Cauliflower        33  28/09/2029\n",
       "2            Garlic        81  02/07/2026\n",
       "3              Kale        69  09/06/2029\n",
       "4           Parsnip        62  07/03/2027\n",
       "..              ...       ...         ...\n",
       "215  Lobster Bisque        59  15/03/2032\n",
       "216        Escargot        74  25/09/2032\n",
       "217       Fish Stew        91  03/04/2029\n",
       "218       Maple Bar        73  04/10/2032\n",
       "219      Crab Cakes        44  13/04/2034\n",
       "\n",
       "[220 rows x 3 columns]"
      ]
     },
     "execution_count": 31,
     "metadata": {},
     "output_type": "execute_result"
    }
   ],
   "source": [
    "df['quantity'] = quantities\n",
    "df['expiry-date'] = dates\n",
    "df"
   ]
  },
  {
   "cell_type": "code",
   "execution_count": 27,
   "metadata": {},
   "outputs": [],
   "source": [
    "df.to_csv(dataset_path, index= False)\n"
   ]
  },
  {
   "cell_type": "code",
   "execution_count": null,
   "metadata": {},
   "outputs": [],
   "source": []
  }
 ],
 "metadata": {
  "kernelspec": {
   "display_name": "Python 3",
   "language": "python",
   "name": "python3"
  },
  "language_info": {
   "codemirror_mode": {
    "name": "ipython",
    "version": 3
   },
   "file_extension": ".py",
   "mimetype": "text/x-python",
   "name": "python",
   "nbconvert_exporter": "python",
   "pygments_lexer": "ipython3",
   "version": "3.12.4"
  }
 },
 "nbformat": 4,
 "nbformat_minor": 2
}
