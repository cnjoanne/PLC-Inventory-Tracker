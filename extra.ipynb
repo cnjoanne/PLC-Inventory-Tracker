{
 "cells": [
  {
   "cell_type": "code",
   "execution_count": null,
   "id": "bebe64fd",
   "metadata": {},
   "outputs": [],
   "source": [
    "from pathlib import Path\n"
   ]
  },
  {
   "cell_type": "code",
   "execution_count": null,
   "id": "807b9092",
   "metadata": {},
   "outputs": [],
   "source": [
    "# prefix components:\n",
    "space =  '    '\n",
    "branch = '│   '\n",
    "# pointers:\n",
    "tee =    '├── '\n",
    "last =   '└── '"
   ]
  },
  {
   "cell_type": "code",
   "execution_count": null,
   "id": "68e7098b",
   "metadata": {},
   "outputs": [],
   "source": [
    "def tree(dir_path: Path, prefix: str=''):\n",
    "    \"\"\"A recursive generator, given a directory Path object\n",
    "    will yield a visual tree structure line by line\n",
    "    with each line prefixed by the same characters\n",
    "    \"\"\"    \n",
    "    contents = list(dir_path.iterdir())\n",
    "    # contents each get pointers that are ├── with a final └── :\n",
    "    pointers = [tee] * (len(contents) - 1) + [last]\n",
    "    for pointer, path in zip(pointers, contents):\n",
    "        yield prefix + pointer + path.name\n",
    "        if path.is_dir(): # extend the prefix and recurse:\n",
    "            extension = branch if pointer == tee else space \n",
    "            # i.e. space because last, └── , above so no more |\n",
    "            yield from tree(path, prefix=prefix+extension)"
   ]
  },
  {
   "cell_type": "code",
   "execution_count": null,
   "id": "b9f9eb8c",
   "metadata": {},
   "outputs": [],
   "source": [
    "for line in tree(Path.home() / \"Documents/Term8/PLC/PLC-Inventory-Tracker\"):\n",
    "    print(line)\n",
    "\n"
   ]
  }
 ],
 "metadata": {
  "kernelspec": {
   "display_name": "Python 3",
   "language": "python",
   "name": "python3"
  },
  "language_info": {
   "codemirror_mode": {
    "name": "ipython",
    "version": 3
   },
   "file_extension": ".py",
   "mimetype": "text/x-python",
   "name": "python",
   "nbconvert_exporter": "python",
   "pygments_lexer": "ipython3",
   "version": "3.12.4"
  }
 },
 "nbformat": 4,
 "nbformat_minor": 5
}
